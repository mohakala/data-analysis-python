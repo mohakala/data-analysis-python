{
 "cells": [
  {
   "cell_type": "markdown",
   "metadata": {},
   "source": [
    "# Fit a Gaussian with scipy.optimize.curve_fit"
   ]
  },
  {
   "cell_type": "code",
   "execution_count": 126,
   "metadata": {},
   "outputs": [],
   "source": [
    "import  numpy as np\n",
    "\n",
    "import pandas as pd\n",
    "from matplotlib import pyplot as plt\n",
    "%matplotlib inline\n",
    "\n",
    "from scipy.optimize import curve_fit"
   ]
  },
  {
   "cell_type": "markdown",
   "metadata": {},
   "source": [
    "### Some links\n",
    "https://stackoverflow.com/questions/11507028/fit-a-gaussian-function <BR>\n",
    "https://stackoverflow.com/questions/40182684/applying-sklearn-gaussian-mixture-algorithm-to-fit-gm-curves"
   ]
  },
  {
   "cell_type": "markdown",
   "metadata": {},
   "source": [
    "### Load the data"
   ]
  },
  {
   "cell_type": "code",
   "execution_count": 127,
   "metadata": {
    "collapsed": true
   },
   "outputs": [],
   "source": [
    "def load_data_xy():    \n",
    "    rawdata='C:\\\\Python34\\\\datasets\\\\matkaaika_V1.csv'\n",
    "    df = pd.read_csv(rawdata)\n",
    "\n",
    "    # Delete unnecessary columns\n",
    "    col_to_delete=['0', 'lunta', 'huono keli']\n",
    "    df=df.drop(col_to_delete, 1)\n",
    "\n",
    "    # Delete rows with missing values\n",
    "    df = df.dropna()\n",
    "    print(df.describe())\n",
    "        \n",
    "    X=df['min8'].values\n",
    "    X=X.reshape(-1, 1)\n",
    "    y=df['kesto'].values\n",
    "    return(X, y, df)"
   ]
  },
  {
   "cell_type": "code",
   "execution_count": 128,
   "metadata": {},
   "outputs": [
    {
     "name": "stdout",
     "output_type": "stream",
     "text": [
      "            min8      kesto  viikonpaiva\n",
      "count   30.00000  30.000000    30.000000\n",
      "mean    54.80000  46.733333     3.233333\n",
      "std     46.41596   5.576634     1.735697\n",
      "min   -120.00000  42.000000     1.000000\n",
      "25%     38.00000  43.250000     2.000000\n",
      "50%     55.50000  44.000000     3.000000\n",
      "75%     76.25000  47.750000     4.000000\n",
      "max    160.00000  61.000000     7.000000\n"
     ]
    }
   ],
   "source": [
    "X, y, df = load_data_xy()"
   ]
  },
  {
   "cell_type": "code",
   "execution_count": 129,
   "metadata": {},
   "outputs": [
    {
     "data": {
      "text/plain": [
       "<matplotlib.axes._subplots.AxesSubplot at 0x17323470>"
      ]
     },
     "execution_count": 129,
     "metadata": {},
     "output_type": "execute_result"
    },
    {
     "data": {
      "image/png": "[encoded data removed]",
      "text/plain": [
       "<matplotlib.figure.Figure at 0x17311c50>"
      ]
     },
     "metadata": {},
     "output_type": "display_data"
    }
   ],
   "source": [
    "# Scatter plot\n",
    "df.plot.scatter('min8', 'kesto')"
   ]
  },
  {
   "cell_type": "markdown",
   "metadata": {},
   "source": [
    "### Auxiliary mirroring just to get more data"
   ]
  },
  {
   "cell_type": "code",
   "execution_count": 130,
   "metadata": {},
   "outputs": [],
   "source": [
    "def mirror(X, y):\n",
    "    Xnew = -0.0 - X\n",
    "    ynew = y\n",
    "    X = np.append(X, Xnew)\n",
    "    y = np.append(y, ynew)\n",
    "    return(X, y)\n",
    "\n",
    "#X, y = mirror(X, y)\n",
    "#plt.scatter(X, y)"
   ]
  },
  {
   "cell_type": "markdown",
   "metadata": {},
   "source": [
    "### Shift and normalize"
   ]
  },
  {
   "cell_type": "code",
   "execution_count": 131,
   "metadata": {
    "collapsed": true
   },
   "outputs": [],
   "source": [
    "# Normalize the data\n",
    "y = y-y[-1]\n",
    "y = y/np.sum(y)"
   ]
  },
  {
   "cell_type": "code",
   "execution_count": 132,
   "metadata": {},
   "outputs": [
    {
     "data": {
      "text/plain": [
       "<matplotlib.collections.PathCollection at 0x17284cf8>"
      ]
     },
     "execution_count": 132,
     "metadata": {},
     "output_type": "execute_result"
    },
    {
     "data": {
      "image/png": "[encoded data removed]",
      "text/plain": [
       "<matplotlib.figure.Figure at 0x16732208>"
      ]
     },
     "metadata": {},
     "output_type": "display_data"
    }
   ],
   "source": [
    "# Scatter plot\n",
    "plt.scatter(X, y)"
   ]
  },
  {
   "cell_type": "markdown",
   "metadata": {},
   "source": [
    "### Function to fit"
   ]
  },
  {
   "cell_type": "code",
   "execution_count": 133,
   "metadata": {
    "collapsed": true
   },
   "outputs": [],
   "source": [
    "def gaussian(x, *p):\n",
    "    A, mu, sigma = p\n",
    "    return(A*np.exp(-(x-mu)**2/(2.*sigma**2)))"
   ]
  },
  {
   "cell_type": "markdown",
   "metadata": {},
   "source": [
    "### Get the fitted curve"
   ]
  },
  {
   "cell_type": "code",
   "execution_count": 134,
   "metadata": {},
   "outputs": [],
   "source": [
    "# Initial guess\n",
    "p0 = [1., 25., 1.]\n",
    "\n",
    "# Fit\n",
    "coeff, cov_mat = curve_fit(gaussian, X.ravel(), y.ravel(), p0=p0)\n",
    "\n",
    "# Get the fitted curve\n",
    "x_new = np.linspace(-150, 170, 100)\n",
    "y_fit = gaussian(x_new, *coeff)"
   ]
  },
  {
   "cell_type": "markdown",
   "metadata": {},
   "source": [
    "### Results"
   ]
  },
  {
   "cell_type": "code",
   "execution_count": 135,
   "metadata": {},
   "outputs": [
    {
     "data": {
      "image/png": "[encoded data removed]",
      "text/plain": [
       "<matplotlib.figure.Figure at 0x17219240>"
      ]
     },
     "metadata": {},
     "output_type": "display_data"
    },
    {
     "name": "stdout",
     "output_type": "stream",
     "text": [
      "Mean =  -24.4284186723\n",
      "Sigma (std) =  35.5828802485\n"
     ]
    }
   ],
   "source": [
    "plt.scatter(X, y, label='Data')\n",
    "plt.plot(x_new, y_fit, label='Fit')\n",
    "plt.show()\n",
    "\n",
    "print('Mean = ', coeff[1])\n",
    "print('Sigma (std) = ', coeff[2])"
   ]
  }
 ],
 "metadata": {
  "kernelspec": {
   "display_name": "Python 3",
   "language": "python",
   "name": "python3"
  },
  "language_info": {
   "codemirror_mode": {
    "name": "ipython",
    "version": 3
   },
   "file_extension": ".py",
   "mimetype": "text/x-python",
   "name": "python",
   "nbconvert_exporter": "python",
   "pygments_lexer": "ipython3",
   "version": "3.6.2"
  }
 },
 "nbformat": 4,
 "nbformat_minor": 2
}
