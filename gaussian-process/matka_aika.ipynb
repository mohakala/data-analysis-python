{
 "cells": [
  {
   "cell_type": "markdown",
   "metadata": {},
   "source": [
    "# Gaussian process regression"
   ]
  },
  {
   "cell_type": "code",
   "execution_count": 286,
   "metadata": {},
   "outputs": [],
   "source": [
    "import numpy as np\n",
    "from matplotlib import pyplot as plt\n",
    "%matplotlib inline\n",
    "import pandas as pd\n",
    "\n",
    "from sklearn.gaussian_process import GaussianProcessRegressor\n",
    "from sklearn.gaussian_process.kernels import RBF, ConstantKernel as C, WhiteKernel"
   ]
  },
  {
   "cell_type": "markdown",
   "metadata": {},
   "source": [
    "### A Get the data"
   ]
  },
  {
   "cell_type": "code",
   "execution_count": 287,
   "metadata": {},
   "outputs": [],
   "source": [
    "rawdata='C:\\\\Python34\\\\datasets\\\\matkaaika_V1.csv'\n",
    "df = pd.read_csv(rawdata)\n",
    "nSamples=len(df)"
   ]
  },
  {
   "cell_type": "markdown",
   "metadata": {},
   "source": [
    "### A1 Examine the data"
   ]
  },
  {
   "cell_type": "code",
   "execution_count": 288,
   "metadata": {},
   "outputs": [
    {
     "name": "stdout",
     "output_type": "stream",
     "text": [
      "Shape of df: (35, 9)\n",
      "         0        min8      kesto  viikonpaiva      lunta  huono keli\n",
      "count  0.0   31.000000  33.000000    33.000000  35.000000   33.000000\n",
      "mean   NaN   54.064516  46.515152     3.303030   0.400000    0.030303\n",
      "std    NaN   45.819163   5.362609     1.686061   0.811679    0.174078\n",
      "min    NaN -120.000000  42.000000     1.000000   0.000000    0.000000\n",
      "25%    NaN   37.500000  43.000000     2.000000   0.000000    0.000000\n",
      "50%    NaN   55.000000  44.000000     3.000000   0.000000    0.000000\n",
      "75%    NaN   75.500000  47.000000     4.000000   1.000000    0.000000\n",
      "max    NaN  160.000000  61.000000     7.000000   4.000000    1.000000\n"
     ]
    }
   ],
   "source": [
    "print('Shape of df:', df.shape)\n",
    "#print(df.head())\n",
    "print(df.describe())\n"
   ]
  },
  {
   "cell_type": "markdown",
   "metadata": {},
   "source": [
    "B, C Clean and prepare the data"
   ]
  },
  {
   "cell_type": "code",
   "execution_count": 289,
   "metadata": {},
   "outputs": [
    {
     "data": {
      "text/html": [
       "<div>\n",
       "<style>\n",
       "    .dataframe thead tr:only-child th {\n",
       "        text-align: right;\n",
       "    }\n",
       "\n",
       "    .dataframe thead th {\n",
       "        text-align: left;\n",
       "    }\n",
       "\n",
       "    .dataframe tbody tr th {\n",
       "        vertical-align: top;\n",
       "    }\n",
       "</style>\n",
       "<table border=\"1\" class=\"dataframe\">\n",
       "  <thead>\n",
       "    <tr style=\"text-align: right;\">\n",
       "      <th></th>\n",
       "      <th>min8</th>\n",
       "      <th>kesto</th>\n",
       "      <th>viikonpaiva</th>\n",
       "    </tr>\n",
       "  </thead>\n",
       "  <tbody>\n",
       "    <tr>\n",
       "      <th>count</th>\n",
       "      <td>31.000000</td>\n",
       "      <td>33.000000</td>\n",
       "      <td>33.000000</td>\n",
       "    </tr>\n",
       "    <tr>\n",
       "      <th>mean</th>\n",
       "      <td>54.064516</td>\n",
       "      <td>46.515152</td>\n",
       "      <td>3.303030</td>\n",
       "    </tr>\n",
       "    <tr>\n",
       "      <th>std</th>\n",
       "      <td>45.819163</td>\n",
       "      <td>5.362609</td>\n",
       "      <td>1.686061</td>\n",
       "    </tr>\n",
       "    <tr>\n",
       "      <th>min</th>\n",
       "      <td>-120.000000</td>\n",
       "      <td>42.000000</td>\n",
       "      <td>1.000000</td>\n",
       "    </tr>\n",
       "    <tr>\n",
       "      <th>25%</th>\n",
       "      <td>37.500000</td>\n",
       "      <td>43.000000</td>\n",
       "      <td>2.000000</td>\n",
       "    </tr>\n",
       "    <tr>\n",
       "      <th>50%</th>\n",
       "      <td>55.000000</td>\n",
       "      <td>44.000000</td>\n",
       "      <td>3.000000</td>\n",
       "    </tr>\n",
       "    <tr>\n",
       "      <th>75%</th>\n",
       "      <td>75.500000</td>\n",
       "      <td>47.000000</td>\n",
       "      <td>4.000000</td>\n",
       "    </tr>\n",
       "    <tr>\n",
       "      <th>max</th>\n",
       "      <td>160.000000</td>\n",
       "      <td>61.000000</td>\n",
       "      <td>7.000000</td>\n",
       "    </tr>\n",
       "  </tbody>\n",
       "</table>\n",
       "</div>"
      ],
      "text/plain": [
       "             min8      kesto  viikonpaiva\n",
       "count   31.000000  33.000000    33.000000\n",
       "mean    54.064516  46.515152     3.303030\n",
       "std     45.819163   5.362609     1.686061\n",
       "min   -120.000000  42.000000     1.000000\n",
       "25%     37.500000  43.000000     2.000000\n",
       "50%     55.000000  44.000000     3.000000\n",
       "75%     75.500000  47.000000     4.000000\n",
       "max    160.000000  61.000000     7.000000"
      ]
     },
     "execution_count": 289,
     "metadata": {},
     "output_type": "execute_result"
    }
   ],
   "source": [
    "# Delete unnecessary columns\n",
    "col_to_delete=['0', 'lunta', 'huono keli']\n",
    "df=df.drop(col_to_delete, 1)\n",
    "df.describe()"
   ]
  },
  {
   "cell_type": "code",
   "execution_count": 290,
   "metadata": {},
   "outputs": [
    {
     "name": "stdout",
     "output_type": "stream",
     "text": [
      "Missing values in columns:\n",
      " lahtoaika      0\n",
      "tuloaika       2\n",
      "min8           4\n",
      "kesto          2\n",
      "viikonpaiva    2\n",
      "paiva          4\n",
      "dtype: int64\n"
     ]
    }
   ],
   "source": [
    "# Show which columns have missing values\n",
    "missValues=df.apply(lambda x: sum(x.isnull()),axis=0)\n",
    "print('Missing values in columns:\\n',missValues) "
   ]
  },
  {
   "cell_type": "code",
   "execution_count": 291,
   "metadata": {},
   "outputs": [
    {
     "data": {
      "text/html": [
       "<div>\n",
       "<style>\n",
       "    .dataframe thead tr:only-child th {\n",
       "        text-align: right;\n",
       "    }\n",
       "\n",
       "    .dataframe thead th {\n",
       "        text-align: left;\n",
       "    }\n",
       "\n",
       "    .dataframe tbody tr th {\n",
       "        vertical-align: top;\n",
       "    }\n",
       "</style>\n",
       "<table border=\"1\" class=\"dataframe\">\n",
       "  <thead>\n",
       "    <tr style=\"text-align: right;\">\n",
       "      <th></th>\n",
       "      <th>min8</th>\n",
       "      <th>kesto</th>\n",
       "      <th>viikonpaiva</th>\n",
       "    </tr>\n",
       "  </thead>\n",
       "  <tbody>\n",
       "    <tr>\n",
       "      <th>count</th>\n",
       "      <td>30.00000</td>\n",
       "      <td>30.000000</td>\n",
       "      <td>30.000000</td>\n",
       "    </tr>\n",
       "    <tr>\n",
       "      <th>mean</th>\n",
       "      <td>54.80000</td>\n",
       "      <td>46.733333</td>\n",
       "      <td>3.233333</td>\n",
       "    </tr>\n",
       "    <tr>\n",
       "      <th>std</th>\n",
       "      <td>46.41596</td>\n",
       "      <td>5.576634</td>\n",
       "      <td>1.735697</td>\n",
       "    </tr>\n",
       "    <tr>\n",
       "      <th>min</th>\n",
       "      <td>-120.00000</td>\n",
       "      <td>42.000000</td>\n",
       "      <td>1.000000</td>\n",
       "    </tr>\n",
       "    <tr>\n",
       "      <th>25%</th>\n",
       "      <td>38.00000</td>\n",
       "      <td>43.250000</td>\n",
       "      <td>2.000000</td>\n",
       "    </tr>\n",
       "    <tr>\n",
       "      <th>50%</th>\n",
       "      <td>55.50000</td>\n",
       "      <td>44.000000</td>\n",
       "      <td>3.000000</td>\n",
       "    </tr>\n",
       "    <tr>\n",
       "      <th>75%</th>\n",
       "      <td>76.25000</td>\n",
       "      <td>47.750000</td>\n",
       "      <td>4.000000</td>\n",
       "    </tr>\n",
       "    <tr>\n",
       "      <th>max</th>\n",
       "      <td>160.00000</td>\n",
       "      <td>61.000000</td>\n",
       "      <td>7.000000</td>\n",
       "    </tr>\n",
       "  </tbody>\n",
       "</table>\n",
       "</div>"
      ],
      "text/plain": [
       "            min8      kesto  viikonpaiva\n",
       "count   30.00000  30.000000    30.000000\n",
       "mean    54.80000  46.733333     3.233333\n",
       "std     46.41596   5.576634     1.735697\n",
       "min   -120.00000  42.000000     1.000000\n",
       "25%     38.00000  43.250000     2.000000\n",
       "50%     55.50000  44.000000     3.000000\n",
       "75%     76.25000  47.750000     4.000000\n",
       "max    160.00000  61.000000     7.000000"
      ]
     },
     "execution_count": 291,
     "metadata": {},
     "output_type": "execute_result"
    }
   ],
   "source": [
    "# Delete rows with missing values\n",
    "df = df.dropna()\n",
    "df.describe()"
   ]
  },
  {
   "cell_type": "markdown",
   "metadata": {},
   "source": [
    "### D Select the features and labels"
   ]
  },
  {
   "cell_type": "code",
   "execution_count": 292,
   "metadata": {},
   "outputs": [
    {
     "name": "stdout",
     "output_type": "stream",
     "text": [
      "30 30\n",
      "<class 'numpy.ndarray'>\n"
     ]
    }
   ],
   "source": [
    "X=df['min8'].values\n",
    "X=X.reshape(-1, 1)\n",
    "y=df['kesto'].values\n",
    "print(len(X), len(y))\n",
    "print(type(X))\n"
   ]
  },
  {
   "cell_type": "code",
   "execution_count": 293,
   "metadata": {
    "scrolled": true
   },
   "outputs": [
    {
     "data": {
      "text/plain": [
       "array([[<matplotlib.axes._subplots.AxesSubplot object at 0x0000000017631C18>]], dtype=object)"
      ]
     },
     "execution_count": 293,
     "metadata": {},
     "output_type": "execute_result"
    },
    {
     "data": {
      "image/png": "[encoded data removed]",
      "text/plain": [
       "<matplotlib.figure.Figure at 0x177b43c8>"
      ]
     },
     "metadata": {},
     "output_type": "display_data"
    }
   ],
   "source": [
    "# Histogram of y\n",
    "df.hist('kesto', bins=15)"
   ]
  },
  {
   "cell_type": "code",
   "execution_count": 294,
   "metadata": {},
   "outputs": [
    {
     "data": {
      "text/plain": [
       "<matplotlib.axes._subplots.AxesSubplot at 0x1919e0b8>"
      ]
     },
     "execution_count": 294,
     "metadata": {},
     "output_type": "execute_result"
    },
    {
     "data": {
      "image/png": "[encoded data removed]",
      "text/plain": [
       "<matplotlib.figure.Figure at 0x173d7240>"
      ]
     },
     "metadata": {},
     "output_type": "display_data"
    }
   ],
   "source": [
    "# Scatter plot\n",
    "df.plot.scatter('min8', 'kesto')"
   ]
  },
  {
   "cell_type": "markdown",
   "metadata": {},
   "source": [
    "### E Select the training and test set"
   ]
  },
  {
   "cell_type": "markdown",
   "metadata": {},
   "source": [
    "## Gaussian process"
   ]
  },
  {
   "cell_type": "markdown",
   "metadata": {},
   "source": [
    "### Function to plot GPR results"
   ]
  },
  {
   "cell_type": "code",
   "execution_count": 295,
   "metadata": {
    "collapsed": true
   },
   "outputs": [],
   "source": [
    "def plotGPRresults(gp, X, y, xtest=0, ytest_true=0, dy=0):\n",
    "    \"\"\"\n",
    "    Plot results for the gp model (one-dimensional data X)\n",
    "    dy = error in the training data\n",
    "    X, y, dy = training data\n",
    "    \n",
    "    xtest = test data x-points\n",
    "    ytest_true = true function at xtest-points\n",
    "    \"\"\"\n",
    "    \n",
    "    # Calculate the predictions\n",
    "    y_pred, sigma = gp.predict(xtest, return_std=True)\n",
    "\n",
    "\n",
    "    plt.figure()\n",
    "        \n",
    "    # Plot the predictions    \n",
    "    plt.plot(xtest, y_pred, 'b-', label='prediction +_ 2sigma')\n",
    "    plt.plot(xtest, y_pred - 2*sigma, 'b:')\n",
    "    plt.plot(xtest, y_pred + 2*sigma, 'b:')\n",
    "\n",
    "\n",
    "    # Plot the training data, with errorbar dy if it's available\n",
    "    if(np.sum(dy) != 0):       \n",
    "        plt.errorbar(X.ravel(), y, dy, fmt='r.', markersize=10, label=u'observations')\n",
    "    else:\n",
    "        plt.plot(X, y, 'r.', markersize=10, label='training data')\n",
    "\n",
    "\n",
    "    # Plot the true function if available\n",
    "    if(np.sum(ytest_true) != 0):  \n",
    "        plt.plot(xtest, ytest_true, 'r:', label='true function')\n",
    "\n",
    "    # Optionally plot also a 'baseline'\n",
    "    # plt.plot(xtest, np.min(y)*np.ones(len(xtest)) , 'k--')\n",
    "    \n",
    "    plt.xlabel('X')\n",
    "    plt.ylabel('y')\n",
    "    plt.ylim(np.min(y)*0.5, np.max(y)*1.5)\n",
    "    plt.legend()\n",
    "    plt.show()\n",
    "\n"
   ]
  },
  {
   "cell_type": "markdown",
   "metadata": {},
   "source": [
    "### F Train the model"
   ]
  },
  {
   "cell_type": "code",
   "execution_count": 296,
   "metadata": {
    "collapsed": true
   },
   "outputs": [],
   "source": [
    "# Gaussian process\n",
    "kernel = C(1.0) * RBF(1, (1e-1, 1e3)) + WhiteKernel(noise_level=1e-5, noise_level_bounds=(1e-10, 1e+2))\n",
    "alpha = 0.1\n",
    "gp = GaussianProcessRegressor(kernel=kernel, alpha=alpha, n_restarts_optimizer=10)"
   ]
  },
  {
   "cell_type": "code",
   "execution_count": 297,
   "metadata": {},
   "outputs": [
    {
     "name": "stdout",
     "output_type": "stream",
     "text": [
      "\n",
      "Optimized kernel: 39.5**2 * RBF(length_scale=124) + WhiteKernel(noise_level=17.9)\n",
      "Log marginal likelihood: -95.4506286889\n"
     ]
    }
   ],
   "source": [
    "# Fit the hyperparameters\n",
    "gp.fit(X, y)\n",
    "print('\\nOptimized kernel:', gp.kernel_)\n",
    "print('Log marginal likelihood:', gp.log_marginal_likelihood_value_)"
   ]
  },
  {
   "cell_type": "code",
   "execution_count": 298,
   "metadata": {},
   "outputs": [
    {
     "data": {
      "image/png": "[encoded data removed]",
      "text/plain": [
       "<matplotlib.figure.Figure at 0x18dcdd68>"
      ]
     },
     "metadata": {},
     "output_type": "display_data"
    }
   ],
   "source": [
    "# Plot for test data points in a range\n",
    "xtest = np.linspace(start=-120, stop=160, num=50).reshape(-1, 1)\n",
    "plotGPRresults(gp, X, y, xtest)"
   ]
  },
  {
   "cell_type": "markdown",
   "metadata": {},
   "source": [
    "### G Test the model"
   ]
  },
  {
   "cell_type": "code",
   "execution_count": 300,
   "metadata": {},
   "outputs": [
    {
     "name": "stdout",
     "output_type": "stream",
     "text": [
      "x, y, +_ 2sigma [-40] 60.1345072328 11.9924810404\n",
      "x, y, +_ 2sigma [0] 56.220381742 9.65191560356\n",
      "x, y, +_ 2sigma [50] 47.1819606096 8.66137011829\n",
      "x, y, +_ 2sigma [120] 42.3964328854 9.27915097251\n"
     ]
    }
   ],
   "source": [
    "xtest=np.atleast_2d([-40, 0, 50, 120]).T\n",
    "y_pred, sigma = gp.predict(xtest, return_std=True)\n",
    "for i, (a, b, c) in enumerate(zip(xtest, y_pred, sigma)):\n",
    "    print(\"x, y, +_ 2sigma\", a, b, 2*c)"
   ]
  },
  {
   "cell_type": "code",
   "execution_count": null,
   "metadata": {
    "collapsed": true
   },
   "outputs": [],
   "source": []
  }
 ],
 "metadata": {
  "kernelspec": {
   "display_name": "Python 3",
   "language": "python",
   "name": "python3"
  },
  "language_info": {
   "codemirror_mode": {
    "name": "ipython",
    "version": 3
   },
   "file_extension": ".py",
   "mimetype": "text/x-python",
   "name": "python",
   "nbconvert_exporter": "python",
   "pygments_lexer": "ipython3",
   "version": "3.6.2"
  }
 },
 "nbformat": 4,
 "nbformat_minor": 2
}
